{
 "cells": [
  {
   "cell_type": "markdown",
   "metadata": {},
   "source": [
    "# Ellipsometry workflow example"
   ]
  },
  {
   "cell_type": "markdown",
   "metadata": {},
   "source": [
    "## Create NeXus file from measurement data"
   ]
  },
  {
   "cell_type": "code",
   "execution_count": 1,
   "metadata": {},
   "outputs": [],
   "source": [
    "from nexusparser.tools.dataconverter.convert import convert"
   ]
  },
  {
   "cell_type": "code",
   "execution_count": 2,
   "metadata": {},
   "outputs": [
    {
     "name": "stdout",
     "output_type": "stream",
     "text": [
      "Using ellips reader to convert the given files:  \n",
      "• test.yaml \n",
      "The path, /ENTRY[entry]/plot/wavelength, is being written but has no documentation.\n",
      "The path, /ENTRY[entry]/plot/wavelength/@units, is being written but has no documentation.\n",
      "The path, /ENTRY[entry]/plot/psi_50deg, is being written but has no documentation.\n",
      "The path, /ENTRY[entry]/plot/psi_50deg/@units, is being written but has no documentation.\n",
      "The path, /ENTRY[entry]/plot/psi_60deg, is being written but has no documentation.\n",
      "The path, /ENTRY[entry]/plot/psi_60deg/@units, is being written but has no documentation.\n",
      "The path, /ENTRY[entry]/plot/psi_70deg, is being written but has no documentation.\n",
      "The path, /ENTRY[entry]/plot/psi_70deg/@units, is being written but has no documentation.\n",
      "The path, /ENTRY[entry]/plot/delta_50deg, is being written but has no documentation.\n",
      "The path, /ENTRY[entry]/plot/delta_50deg/@units, is being written but has no documentation.\n",
      "The path, /ENTRY[entry]/plot/delta_60deg, is being written but has no documentation.\n",
      "The path, /ENTRY[entry]/plot/delta_60deg/@units, is being written but has no documentation.\n",
      "The path, /ENTRY[entry]/plot/delta_70deg, is being written but has no documentation.\n",
      "The path, /ENTRY[entry]/plot/delta_70deg/@units, is being written but has no documentation.\n",
      "The output file generated: ellips.test.nxs\n"
     ]
    }
   ],
   "source": [
    "convert(input_file=[\"test.yaml\"],\n",
    "        reader='ellips',\n",
    "        nxdl='NXellipsometry',\n",
    "        output='ellips.test.nxs')"
   ]
  },
  {
   "cell_type": "markdown",
   "metadata": {},
   "source": [
    "## Inspect the NeXus file with h5web"
   ]
  },
  {
   "cell_type": "code",
   "execution_count": 3,
   "metadata": {},
   "outputs": [],
   "source": [
    "from jupyterlab_h5web import H5Web"
   ]
  },
  {
   "cell_type": "code",
   "execution_count": 4,
   "metadata": {},
   "outputs": [
    {
     "data": {
      "application/x-hdf5": "/Users/domna/fairmat/north/nomad-remote-tools-hub/docker/ellips/example/ellips.test.nxs",
      "text/plain": [
       "<jupyterlab_h5web.widget.H5Web object>"
      ]
     },
     "execution_count": 4,
     "metadata": {},
     "output_type": "execute_result"
    }
   ],
   "source": [
    "H5Web('ellips.test.nxs')"
   ]
  },
  {
   "cell_type": "markdown",
   "metadata": {},
   "source": [
    "Here is where the general template ends. Continue to fill the notebook based on<br>\n",
    "**your own** post-processing of the *.nxs file."
   ]
  },
  {
   "cell_type": "markdown",
   "metadata": {
    "tags": []
   },
   "source": [
    "## Analyze $\\Psi$ \\ $\\Delta$ values with a transfer-matrix solver"
   ]
  },
  {
   "cell_type": "code",
   "execution_count": 1,
   "metadata": {},
   "outputs": [],
   "source": [
    "import elli\n",
    "from elli.fitting import ParamsHist, fit\n",
    "from elli.nexus import read_psi_delta"
   ]
  },
  {
   "cell_type": "markdown",
   "metadata": {},
   "source": [
    "### Load data from NeXus file"
   ]
  },
  {
   "cell_type": "code",
   "execution_count": 2,
   "metadata": {},
   "outputs": [],
   "source": [
    "psi_delta = read_psi_delta('ellips.test.nxs').loc[210:800]"
   ]
  },
  {
   "cell_type": "markdown",
   "metadata": {},
   "source": [
    "### Set model parameters"
   ]
  },
  {
   "cell_type": "code",
   "execution_count": 3,
   "metadata": {},
   "outputs": [],
   "source": [
    "params = ParamsHist()\n",
    "params.add(\"SiO2_n0\", value=1.452, min=-100, max=100, vary=True)\n",
    "params.add(\"SiO2_n1\", value=36.0, min=-40000, max=40000, vary=True)\n",
    "params.add(\"SiO2_n2\", value=0, min=-40000, max=40000, vary=True)\n",
    "params.add(\"SiO2_k0\", value=0, min=-100, max=100, vary=True)\n",
    "params.add(\"SiO2_k1\", value=0, min=-40000, max=40000, vary=True)\n",
    "params.add(\"SiO2_k2\", value=0, min=-40000, max=40000, vary=True)\n",
    "params.add(\"SiO2_d\", value=2, min=0, max=40000, vary=True)"
   ]
  },
  {
   "cell_type": "markdown",
   "metadata": {},
   "source": [
    "### Build the model and show interactive plot to set the parameters"
   ]
  },
  {
   "cell_type": "code",
   "execution_count": 4,
   "metadata": {},
   "outputs": [
    {
     "data": {
      "application/vnd.jupyter.widget-view+json": {
       "model_id": "4a5037191d41491d8e31733b84d1e4a4",
       "version_major": 2,
       "version_minor": 0
      },
      "text/plain": [
       "VBox(children=(HBox(children=(HBox(children=(BoundedFloatText(value=1.452, description='SiO2_n0', min=-100.0),…"
      ]
     },
     "metadata": {},
     "output_type": "display_data"
    }
   ],
   "source": [
    "@fit(psi_delta, params)\n",
    "def model(lbda, params):\n",
    "    sr = elli.SpectraRay(\"./\")\n",
    "    Si = elli.IsotropicMaterial(sr.loadDispersionTable(\"Si_Aspnes.mat\"))\n",
    "\n",
    "    SiO2 = elli.Cauchy(\n",
    "        params[\"SiO2_n0\"],\n",
    "        params[\"SiO2_n1\"],\n",
    "        params[\"SiO2_n2\"],\n",
    "        params[\"SiO2_k0\"],\n",
    "        params[\"SiO2_k1\"],\n",
    "        params[\"SiO2_k2\"],\n",
    "    ).get_mat()\n",
    "\n",
    "    Layer = [elli.Layer(SiO2, params[\"SiO2_d\"])]\n",
    "\n",
    "    return elli.Structure(elli.AIR, Layer, Si).evaluate(lbda, 50, solver=elli.Solver2x2)"
   ]
  },
  {
   "cell_type": "markdown",
   "metadata": {},
   "source": [
    "### Fit and plot fit result"
   ]
  },
  {
   "cell_type": "code",
   "execution_count": 5,
   "metadata": {},
   "outputs": [
    {
     "data": {
      "application/vnd.jupyter.widget-view+json": {
       "model_id": "0661dd161e12406b85c35dc7c1d106c3",
       "version_major": 2,
       "version_minor": 0
      },
      "text/plain": [
       "FigureWidget({\n",
       "    'data': [{'hovertemplate': 'variable=Ψ<br>Wavelength=%{x}<br>value=%{y}<extra></extra>',\n",
       "  …"
      ]
     },
     "metadata": {},
     "output_type": "display_data"
    }
   ],
   "source": [
    "fit_stats = model.fit()\n",
    "model.plot()"
   ]
  },
  {
   "cell_type": "markdown",
   "metadata": {},
   "source": [
    "## Show fit statistics"
   ]
  },
  {
   "cell_type": "code",
   "execution_count": 6,
   "metadata": {},
   "outputs": [
    {
     "data": {
      "text/html": [
       "<h2>Fit Statistics</h2><table><tr><td>fitting method</td><td>leastsq</td><td></td></tr><tr><td># function evals</td><td>148</td><td></td></tr><tr><td># data points</td><td>1182</td><td></td></tr><tr><td># variables</td><td>7</td><td></td></tr><tr><td>chi-square</td><td> 0.00351374</td><td></td></tr><tr><td>reduced chi-square</td><td> 2.9904e-06</td><td></td></tr><tr><td>Akaike info crit.</td><td>-15028.1770</td><td></td></tr><tr><td>Bayesian info crit.</td><td>-14992.6523</td><td></td></tr></table><h2>Variables</h2><table><tr><th> name </th><th> value </th><th> standard error </th><th> relative error </th><th> initial value </th><th> min </th><th> max </th><th> vary </th></tr><tr><td> SiO2_n0 </td><td>  1.39104350 </td><td>  0.08818332 </td><td> (6.34%) </td><td> 1.452 </td><td> -100.000000 </td><td>  100.000000 </td><td> True </td></tr><tr><td> SiO2_n1 </td><td>  267.744900 </td><td>  43.4003718 </td><td> (16.21%) </td><td> 36.0 </td><td> -40000.0000 </td><td>  40000.0000 </td><td> True </td></tr><tr><td> SiO2_n2 </td><td> -91.9046249 </td><td>  20.5864540 </td><td> (22.40%) </td><td> 0 </td><td> -40000.0000 </td><td>  40000.0000 </td><td> True </td></tr><tr><td> SiO2_k0 </td><td>  0.03661447 </td><td>  0.01844708 </td><td> (50.38%) </td><td> 0 </td><td> -100.000000 </td><td>  100.000000 </td><td> True </td></tr><tr><td> SiO2_k1 </td><td> -73.2878914 </td><td>  40.6897470 </td><td> (55.52%) </td><td> 0 </td><td> -40000.0000 </td><td>  40000.0000 </td><td> True </td></tr><tr><td> SiO2_k2 </td><td>  50.5695071 </td><td>  17.4319129 </td><td> (34.47%) </td><td> 0 </td><td> -40000.0000 </td><td>  40000.0000 </td><td> True </td></tr><tr><td> SiO2_d </td><td>  1.93188919 </td><td>  0.18316340 </td><td> (9.48%) </td><td> 2 </td><td>  0.00000000 </td><td>  40000.0000 </td><td> True </td></tr></table><h2>Correlations (unreported correlations are < 0.100)</h2><table><tr><td>SiO2_k1</td><td>SiO2_k2</td><td>-0.9922</td></tr><tr><td>SiO2_n0</td><td>SiO2_d</td><td>-0.9912</td></tr><tr><td>SiO2_n1</td><td>SiO2_n2</td><td>-0.9907</td></tr><tr><td>SiO2_k0</td><td>SiO2_k1</td><td>-0.9622</td></tr><tr><td>SiO2_k0</td><td>SiO2_k2</td><td>0.9281</td></tr><tr><td>SiO2_n2</td><td>SiO2_d</td><td>0.8989</td></tr><tr><td>SiO2_n1</td><td>SiO2_d</td><td>-0.8587</td></tr><tr><td>SiO2_k2</td><td>SiO2_d</td><td>-0.8557</td></tr><tr><td>SiO2_n0</td><td>SiO2_k2</td><td>0.8481</td></tr><tr><td>SiO2_n0</td><td>SiO2_n2</td><td>-0.8438</td></tr><tr><td>SiO2_k1</td><td>SiO2_d</td><td>0.8374</td></tr><tr><td>SiO2_n0</td><td>SiO2_k1</td><td>-0.8300</td></tr><tr><td>SiO2_n0</td><td>SiO2_n1</td><td>0.7895</td></tr><tr><td>SiO2_k0</td><td>SiO2_d</td><td>-0.7735</td></tr><tr><td>SiO2_n2</td><td>SiO2_k2</td><td>-0.7691</td></tr><tr><td>SiO2_n0</td><td>SiO2_k0</td><td>0.7667</td></tr><tr><td>SiO2_n2</td><td>SiO2_k1</td><td>0.7527</td></tr><tr><td>SiO2_n1</td><td>SiO2_k2</td><td>0.7348</td></tr><tr><td>SiO2_n1</td><td>SiO2_k1</td><td>-0.7191</td></tr><tr><td>SiO2_n2</td><td>SiO2_k0</td><td>-0.6953</td></tr><tr><td>SiO2_n1</td><td>SiO2_k0</td><td>0.6642</td></tr></table>"
      ],
      "text/plain": [
       "<lmfit.minimizer.MinimizerResult at 0x7faf7b622f50>"
      ]
     },
     "execution_count": 6,
     "metadata": {},
     "output_type": "execute_result"
    }
   ],
   "source": [
    "fit_stats"
   ]
  },
  {
   "cell_type": "code",
   "execution_count": null,
   "metadata": {},
   "outputs": [],
   "source": []
  }
 ],
 "metadata": {
  "interpreter": {
   "hash": "b9fddc58dc57ea50871417fc87a4980c7b380fa13aff2f47c7e30a74a9c11199"
  },
  "kernelspec": {
   "display_name": "nexus-parser",
   "language": "python",
   "name": "nexus-parser"
  },
  "language_info": {
   "codemirror_mode": {
    "name": "ipython",
    "version": 3
   },
   "file_extension": ".py",
   "mimetype": "text/x-python",
   "name": "python",
   "nbconvert_exporter": "python",
   "pygments_lexer": "ipython3",
   "version": "3.7.13"
  },
  "widgets": {
   "application/vnd.jupyter.widget-state+json": {
    "state": {},
    "version_major": 2,
    "version_minor": 0
   }
  }
 },
 "nbformat": 4,
 "nbformat_minor": 4
}
