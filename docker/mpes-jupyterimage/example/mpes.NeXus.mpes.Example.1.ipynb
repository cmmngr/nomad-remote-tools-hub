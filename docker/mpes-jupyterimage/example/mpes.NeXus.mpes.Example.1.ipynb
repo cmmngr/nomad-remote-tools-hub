{
 "cells": [
  {
   "cell_type": "markdown",
   "metadata": {},
   "source": [
    "# nomad-parser-nexus demo for Multidimensional Photoemission Spectroscopy (MPES)"
   ]
  },
  {
   "cell_type": "markdown",
   "metadata": {},
   "source": [
    "Jupyter notebook displaying parsing from FHI preprocessing software output (x-array based .h5) to NXmpes formatted nexus"
   ]
  },
  {
   "cell_type": "markdown",
   "metadata": {},
   "source": [
    "# Run the parser "
   ]
  },
  {
   "cell_type": "code",
   "execution_count": 10,
   "metadata": {},
   "outputs": [],
   "source": [
    "from nexusparser.tools.dataconverter.convert import convert"
   ]
  },
  {
   "cell_type": "code",
   "execution_count": 12,
   "metadata": {},
   "outputs": [
    {
     "name": "stdout",
     "output_type": "stream",
     "text": [
      "Using mpes reader to convert the given files:  \n",
      "• xarray_MoTe2.h5\n",
      "• config_file.json\n",
      "• ELN_metadata_example.yaml \n",
      "The path, /ENTRY[entry]/@entry, is being written but has no documentation.\n",
      "The path, /ENTRY[entry]/INSTRUMENT[instrument]/energy_resolution/@units, is being written but has no documentation.\n",
      "The path, /ENTRY[entry]/INSTRUMENT[instrument]/ELECTRONANALYSER[electronanalyser]/energy_resolution/@units, is being written but has no documentation.\n",
      "The path, /ENTRY[entry]/INSTRUMENT[instrument]/ELECTRONANALYSER[electronanalyser]/ENERGYDISPERSION[energydispersion]/pass_energy/@units, is being written but has no documentation.\n",
      "The path, /ENTRY[entry]/INSTRUMENT[instrument]/BEAM[beam]/distance/@units, is being written but has no documentation.\n",
      "The path, /ENTRY[entry]/INSTRUMENT[instrument]/BEAM[beam]/incident_energy/@units, is being written but has no documentation.\n",
      "The path, /ENTRY[entry]/INSTRUMENT[instrument]/BEAM[beam]/incident_energy_spread/@units, is being written but has no documentation.\n",
      "The path, /ENTRY[entry]/INSTRUMENT[instrument]/BEAM[beam]/incident_polarization/@units, is being written but has no documentation.\n",
      "The path, /ENTRY[entry]/SAMPLE[sample]/gas_pressure/@units, is being written but has no documentation.\n",
      "The path, /ENTRY[entry]/PROCESS[process]/REGISTRATION[registration]/new_centre, is being written but has no documentation.\n",
      "The path, /ENTRY[entry]/PROCESS[process]/REGISTRATION[registration]/rotation_centre, is being written but has no documentation.\n",
      "The path, /ENTRY[entry]/PROCESS[process]/calculated_energy, is being written but has no documentation.\n",
      "The path, /ENTRY[entry]/PROCESS[process]/calculated_energy/@units, is being written but has no documentation.\n",
      "The path, /ENTRY[entry]/DATA[data]/data/@units, is being written but has no documentation.\n",
      "The output file generated: mpes.test.nxs\n"
     ]
    }
   ],
   "source": [
    "convert(input_file=[\"xarray_MoTe2.h5\", \"config_file.json\", \"ELN_metadata_example.yaml\"],\n",
    "        reader='mpes',\n",
    "        nxdl='NXmpes',\n",
    "        output='mpes.test.nxs')"
   ]
  },
  {
   "cell_type": "markdown",
   "metadata": {},
   "source": [
    "The key take home message is that the command above-specified triggers the automatic creation of the HDF5 file.<br>\n",
    "This *.nxs file, is an HDF5 file."
   ]
  },
  {
   "cell_type": "markdown",
   "metadata": {
    "tags": []
   },
   "source": [
    "# Inspect the HDF5/NeXus file using H5Web"
   ]
  },
  {
   "cell_type": "code",
   "execution_count": null,
   "metadata": {},
   "outputs": [],
   "source": [
    "from jupyterlab_h5web import H5Web"
   ]
  },
  {
   "cell_type": "code",
   "execution_count": null,
   "metadata": {},
   "outputs": [],
   "source": [
    "h5_file_name = 'mpes.test.nxs'"
   ]
  },
  {
   "cell_type": "code",
   "execution_count": null,
   "metadata": {},
   "outputs": [],
   "source": [
    "H5Web(h5_file_name)"
   ]
  }
 ],
 "metadata": {
  "kernelspec": {
   "display_name": "nexus-parser",
   "language": "python",
   "name": "nexus-parser"
  },
  "language_info": {
   "codemirror_mode": {
    "name": "ipython",
    "version": 3
   },
   "file_extension": ".py",
   "mimetype": "text/x-python",
   "name": "python",
   "nbconvert_exporter": "python",
   "pygments_lexer": "ipython3",
   "version": "3.7.13"
  },
  "widgets": {
   "application/vnd.jupyter.widget-state+json": {
    "state": {},
    "version_major": 2,
    "version_minor": 0
   }
  }
 },
 "nbformat": 4,
 "nbformat_minor": 4
}
