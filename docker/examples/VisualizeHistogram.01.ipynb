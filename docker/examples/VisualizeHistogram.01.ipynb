{
 "cells": [
  {
   "cell_type": "markdown",
   "metadata": {},
   "source": [
    "## nomad-remote-tool jupyter testing"
   ]
  },
  {
   "cell_type": "markdown",
   "metadata": {},
   "source": [
    "Upload data into local nomadOASIS. Process data inside a docker container."
   ]
  },
  {
   "cell_type": "markdown",
   "metadata": {},
   "source": [
    "### Initialize"
   ]
  },
  {
   "cell_type": "markdown",
   "metadata": {},
   "source": [
    "Import Python modules"
   ]
  },
  {
   "cell_type": "code",
   "execution_count": null,
   "metadata": {},
   "outputs": [],
   "source": [
    "import numpy as np\n",
    "import matplotlib.pyplot as plt\n",
    "#plt.rcParams['figure.figsize'] = [12, 8]\n",
    "#plt.rcParams['figure.dpi'] = 300\n",
    "import h5py as h5"
   ]
  },
  {
   "cell_type": "markdown",
   "metadata": {},
   "source": [
    "Identify in which folder we are locally"
   ]
  },
  {
   "cell_type": "code",
   "execution_count": null,
   "metadata": {},
   "outputs": [],
   "source": [
    "! echo $PWD"
   ]
  },
  {
   "cell_type": "markdown",
   "metadata": {},
   "source": [
    "### Download a dataset for testing from Zenodo"
   ]
  },
  {
   "cell_type": "markdown",
   "metadata": {},
   "source": [
    "https://zenodo.org/record/5562389#.YWRUtHuxXjA"
   ]
  },
  {
   "cell_type": "code",
   "execution_count": null,
   "metadata": {},
   "outputs": [],
   "source": [
    "MYDATASET = 'PARAPROBE.Transcoder.Results.SimID.8.h5'\n",
    "\n",
    "#later load a dataset from local nomadOASIS data repository (shadow) folder."
   ]
  },
  {
   "cell_type": "markdown",
   "metadata": {},
   "source": [
    "### Example 1, read data from an HDF5 file inside nomadOASIS, process data, and visualize these"
   ]
  },
  {
   "cell_type": "code",
   "execution_count": null,
   "metadata": {},
   "outputs": [],
   "source": [
    "#interact with h5py to load numerical data\n",
    "hf = h5.File( MYDATASET, 'r' )\n",
    "mq = hf['ReconstructionID8/Data/MassToChargeRatio'][:]\n",
    "print('Mass-to-charge-state-ratio array loaded')\n",
    "[mqmin, mqmax] = [0., np.max(mq)]\n",
    "print('Dataset ranging from ['+str(mqmin)+', '+str(mqmax)+'] Da.')\n",
    "\n",
    "mqincr = 0.01 #Da\n",
    "print('Using a mass-to-charge-state ratio resolution of '+str(mqincr)+' Da.')"
   ]
  },
  {
   "cell_type": "code",
   "execution_count": null,
   "metadata": {},
   "outputs": [],
   "source": [
    "#transform collection of mass-to-charge-state ratios into a histogram\n",
    "hst1d = np.unique(np.uint64(np.floor((mq[np.logical_and(mq >= mqmin, mq <= mqmax)]-mqmin)/mqincr)), return_counts=True)\n",
    "nbins = np.uint64((mqmax - mqmin)/mqincr + 1)\n",
    "print('Histogram has '+str(nbins)+' bins.')"
   ]
  },
  {
   "cell_type": "code",
   "execution_count": null,
   "metadata": {},
   "outputs": [],
   "source": [
    "#use matplotlib and numpy to plot histogram data \n",
    "xy = np.zeros([nbins,2], np.float64)\n",
    "xy[:,0] = np.linspace(mqmin+mqincr, mqmax+mqincr, nbins, endpoint=True)\n",
    "xy[:,1] = 0.5 #*np.ones([nbins],np.float64) #0.5 to be able to plot logarithm you can not measure half an atom\n",
    "for i in np.arange(0,len(hst1d[0])):\n",
    "    binidx = hst1d[0][i]\n",
    "    xy[binidx,1] = hst1d[1][i]\n",
    "print('Mass-to-charge-state histogram created.')"
   ]
  },
  {
   "cell_type": "code",
   "execution_count": null,
   "metadata": {
    "scrolled": false
   },
   "outputs": [],
   "source": [
    "[xmi, xmx, ymi, ymx] = [mqmin, mqmax, 0.5, 10**np.ceil(np.log10(np.max(xy[:,1])))]\n",
    "fig, ( (myplot) ) = plt.subplots(1, 1)\n",
    "myplot.plot( xy[:,0], xy[:,1], color='blue', alpha=0.5, linewidth=1.0 )\n",
    "plt.legend( [r'Mass-to-charge-state ratio $\\Delta\\frac{m}{q} = $'+str(mqincr)+' Da'], loc='upper right')\n",
    "plt.xlabel(r'Mass-to-charge-state-ratio (Da)')\n",
    "plt.ylabel(r'Counts')\n",
    "#plt.ylabel(r'$log_{10}$ Counts')\n",
    "#xy.vlines([xmx], 0, 1, transform=xy.get_xaxis_transform(), colors=MYPARULA[2], linestyles='dotted') #'solid') #'dotted')\n",
    "#plt.xticks([1, 2, 3, 4, 5, 6, 7, 8, 9], ['Min', '0.0025', '0.025', '0.25', '0.50', '0.75', '0.975', '0.9975', 'Max'])\n",
    "plt.yscale('log')\n",
    "print('Mass-to-charge-state histogram visualized.')\n",
    "#scale bar with add margin to the bottom and top of the yaxis to avoid that lines fall on x axis\n",
    "\n",
    "#polishing the margins\n",
    "margin=0.01\n",
    "plt.xlim([-margin*(xmx-xmi)+xmi, +margin*(xmx-xmi)+xmx])\n",
    "plt.ylim([ymi, +margin*(ymx-ymi)+ymx])\n",
    "#plot the figure\n",
    "#figfn = MYDATASET+'.MassToChargeStateRatios.png'\n",
    "#fig.savefig( figfn, dpi=300, facecolor='w', edgecolor='w', orientation='landscape', format='png', \n",
    "#                    transparent=False, bbox_inches='tight', pad_inches=0.1, metadata=None)\n",
    "#plt.close('all')\n"
   ]
  },
  {
   "cell_type": "code",
   "execution_count": null,
   "metadata": {},
   "outputs": [],
   "source": [
    "### Example 2, store files created inside jupyter session, where do these end up ?"
   ]
  },
  {
   "cell_type": "code",
   "execution_count": null,
   "metadata": {},
   "outputs": [],
   "source": [
    "#plot the figure\n",
    "figfn = MYDATASET+'.MassToChargeStateRatios.png'\n",
    "fig.savefig( figfn, dpi=300, facecolor='w', edgecolor='w', orientation='landscape', format='png', \n",
    "                    transparent=False, bbox_inches='tight', pad_inches=0.1, metadata=None)\n",
    "#plt.close('all')\n",
    "print(figfn+' stored to disk.')"
   ]
  },
  {
   "cell_type": "code",
   "execution_count": null,
   "metadata": {},
   "outputs": [],
   "source": [
    "! ls"
   ]
  },
  {
   "cell_type": "code",
   "execution_count": null,
   "metadata": {},
   "outputs": [],
   "source": [
    "### Example 2, get a periodic table of the elements"
   ]
  },
  {
   "cell_type": "code",
   "execution_count": null,
   "metadata": {},
   "outputs": [],
   "source": [
    "### Example 3, interactive plotting (bokeh, ipywidgets?)"
   ]
  },
  {
   "cell_type": "code",
   "execution_count": null,
   "metadata": {},
   "outputs": [],
   "source": [
    "### Example 4, use nomad API to create an archive\n",
    "#https://towardsdatascience.com/how-to-produce-interactive-matplotlib-plots-in-jupyter-environment-1e4329d71651"
   ]
  },
  {
   "cell_type": "code",
   "execution_count": null,
   "metadata": {},
   "outputs": [],
   "source": []
  }
 ],
 "metadata": {
  "kernelspec": {
   "display_name": "Python 3",
   "language": "python",
   "name": "python3"
  },
  "language_info": {
   "codemirror_mode": {
    "name": "ipython",
    "version": 3
   },
   "file_extension": ".py",
   "mimetype": "text/x-python",
   "name": "python",
   "nbconvert_exporter": "python",
   "pygments_lexer": "ipython3",
   "version": "3.8.5"
  }
 },
 "nbformat": 4,
 "nbformat_minor": 4
}
