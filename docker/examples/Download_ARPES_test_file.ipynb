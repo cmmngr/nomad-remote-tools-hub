{
 "cells": [
  {
   "cell_type": "markdown",
   "metadata": {},
   "source": [
    "## nomad-remote-tool jupyter testing"
   ]
  },
  {
   "cell_type": "markdown",
   "metadata": {},
   "source": [
    "Upload data into local nomadOASIS. Process data inside a docker container."
   ]
  },
  {
   "cell_type": "markdown",
   "metadata": {},
   "source": [
    "### Initialize"
   ]
  },
  {
   "cell_type": "markdown",
   "metadata": {},
   "source": [
    "Import Python modules"
   ]
  },
  {
   "cell_type": "code",
   "execution_count": null,
   "metadata": {},
   "outputs": [],
   "source": [
    "import numpy as np\n",
    "import matplotlib.pyplot as plt\n",
    "#plt.rcParams['figure.figsize'] = [12, 8]\n",
    "#plt.rcParams['figure.dpi'] = 300\n",
    "import h5py as h5"
   ]
  },
  {
   "cell_type": "markdown",
   "metadata": {},
   "source": [
    "Identify in which folder we are locally"
   ]
  },
  {
   "cell_type": "code",
   "execution_count": null,
   "metadata": {},
   "outputs": [],
   "source": [
    "! echo $PWD"
   ]
  },
  {
   "cell_type": "markdown",
   "metadata": {},
   "source": [
    "Make a new folder for the downloaded files"
   ]
  },
  {
   "cell_type": "code",
   "execution_count": null,
   "metadata": {},
   "outputs": [],
   "source": [
    "! mkdir download"
   ]
  },
  {
   "cell_type": "markdown",
   "metadata": {},
   "source": [
    "### Download a dataset for testing from Zenodo"
   ]
  },
  {
   "cell_type": "markdown",
   "metadata": {},
   "source": [
    "https://zenodo.org/record/5541490\n",
    "This record contains two 3D data files in separate nexus files, annotated with metadata"
   ]
  },
  {
   "cell_type": "code",
   "execution_count": null,
   "metadata": {},
   "outputs": [],
   "source": [
    "! curl -o download/TiTe2_0deg.nxs  https://zenodo.org/record/5541490/files/TiTe2_0deg.nxs?download=1"
   ]
  },
  {
   "cell_type": "code",
   "execution_count": null,
   "metadata": {},
   "outputs": [],
   "source": [
    "! curl -o download/TiTe2_60deg.nxs  https://zenodo.org/record/5541490/files/TiTe2_60deg.nxs?download=1"
   ]
  },
  {
   "cell_type": "code",
   "execution_count": null,
   "metadata": {},
   "outputs": [],
   "source": [
    "DS_0 = 'download/TiTe2_0deg.nxs'\n",
    "\n",
    "#later load a dataset from local nomadOASIS data repository (shadow) folder."
   ]
  },
  {
   "cell_type": "markdown",
   "metadata": {},
   "source": [
    "### Example 1, read data from an HDF5 file inside nomadOASIS and visualize"
   ]
  },
  {
   "cell_type": "code",
   "execution_count": null,
   "metadata": {},
   "outputs": [],
   "source": [
    "#interact with h5py to load numerical data\n",
    "hf = h5.File( DS_0, 'r' )\n",
    "mq_0 = hf['entry/data/Photoemission intensity'][:]\n",
    "x_0 = hf['entry/data/calculated_kx'][:]\n",
    "y_0 = hf['entry/data/calculated_ky'][:]\n",
    "E_0 = hf['entry/data/calculated_Energy'][:]"
   ]
  },
  {
   "cell_type": "code",
   "execution_count": null,
   "metadata": {},
   "outputs": [],
   "source": [
    "proj_0=np.squeeze(np.sum(mq_0[:,:,45:55], axis=2))\n",
    "plt.imshow(proj_0, cmap='viridis', aspect=0.5, origin='lower')\n",
    "fmt = lambda x: \"{:.1f}\".format(x)\n",
    "plt.xticks(range(len(x_0))[::11], [fmt(i) for i in x_0[::11]])\n",
    "plt.yticks(range(len(E_0))[::19], [fmt(i) for i in E_0[::19]])\n",
    "plt.xlabel(r'Parallel wavevector (1/Å)')\n",
    "plt.ylabel(r'Binding energy (eV)')\n",
    "#cax = plt.axes([0.85, 0.1, 0.075, 0.8],)\n",
    "cbar=plt.colorbar()\n",
    "cbar.set_label('Photoemission Intensity')\n",
    "\n",
    "plt.show()"
   ]
  },
  {
   "cell_type": "code",
   "execution_count": null,
   "metadata": {},
   "outputs": [],
   "source": [
    "DS_60 = 'download/TiTe2_60deg.nxs'"
   ]
  },
  {
   "cell_type": "code",
   "execution_count": null,
   "metadata": {},
   "outputs": [],
   "source": [
    "#interact with h5py to load numerical data\n",
    "hf = h5.File( DS_60, 'r' )\n",
    "mq_60 = hf['entry/data/Photoemission intensity'][:]\n",
    "x_60 = hf['entry/data/calculated_kx'][:]\n",
    "y_60 = hf['entry/data/calculated_ky'][:]\n",
    "E_60 = hf['entry/data/calculated_Energy'][:]"
   ]
  },
  {
   "cell_type": "code",
   "execution_count": null,
   "metadata": {},
   "outputs": [],
   "source": [
    "proj_60=np.squeeze(np.sum(mq_60[:,:,45:55], axis=2))\n",
    "plt.imshow(proj_60, cmap='viridis', aspect=0.5, origin='lower')\n",
    "fmt = lambda x: \"{:.1f}\".format(x)\n",
    "plt.xticks(range(len(x_60))[::11], [fmt(i) for i in x_60[::11]])\n",
    "plt.yticks(range(len(E_60))[::19], [fmt(i) for i in E_60[::19]])\n",
    "plt.xlabel(r'Parallel wavevector (1/Å)')\n",
    "plt.ylabel(r'Binding energy (eV)')\n",
    "#cax = plt.axes([0.85, 0.1, 0.075, 0.8],)\n",
    "cbar=plt.colorbar()\n",
    "cbar.set_label('Photoemission Intensity')\n",
    "\n",
    "plt.show()"
   ]
  },
  {
   "cell_type": "markdown",
   "metadata": {},
   "source": [
    "Rotation of the crystal by 60° leads to the observation of modulations in the photoemission intensity due to the symmetry of the orbitals forming the bands as shown in https://arxiv.org/pdf/2107.07158.pdf"
   ]
  }
 ],
 "metadata": {
  "kernelspec": {
   "display_name": "Python 3",
   "language": "python",
   "name": "python3"
  },
  "language_info": {
   "codemirror_mode": {
    "name": "ipython",
    "version": 3
   },
   "file_extension": ".py",
   "mimetype": "text/x-python",
   "name": "python",
   "nbconvert_exporter": "python",
   "pygments_lexer": "ipython3",
   "version": "3.8.8"
  }
 },
 "nbformat": 4,
 "nbformat_minor": 4
}
