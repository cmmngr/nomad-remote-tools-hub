{
 "cells": [
  {
   "cell_type": "code",
   "execution_count": null,
   "id": "4d242bd3-6fa8-42c8-b48b-000d0d4adf47",
   "metadata": {},
   "outputs": [],
   "source": [
    "from arpes.plotting.qt_tool import qt_tool\n",
    "from arpes.plotting.basic_tools import path_tool\n",
    "from arpes.io import example_data, load_data\n",
    "import xarray as xr\n",
    "import numpy as np\n",
    "from pathlib import Path\n",
    "import h5py as h5"
   ]
  },
  {
   "cell_type": "markdown",
   "id": "7833f9b0-5bf7-4dd2-819e-82bc33416964",
   "metadata": {},
   "source": [
    "Identify in which folder we are locally"
   ]
  },
  {
   "cell_type": "code",
   "execution_count": null,
   "id": "87ad096c-bf7d-4838-96fe-f9e8faa87752",
   "metadata": {},
   "outputs": [],
   "source": [
    "! echo $PWD"
   ]
  },
  {
   "cell_type": "markdown",
   "id": "f10015b2-fea5-48d1-82eb-584656fc6d12",
   "metadata": {},
   "source": [
    "Make a new folder for the downloaded files"
   ]
  },
  {
   "cell_type": "code",
   "execution_count": null,
   "id": "4ee8e2ed-ee52-44c4-8f6a-bb71d1d95c2d",
   "metadata": {},
   "outputs": [],
   "source": [
    "! mkdir download"
   ]
  },
  {
   "cell_type": "markdown",
   "id": "a98808fd-8d13-4cd9-98a0-ab55c8c40f15",
   "metadata": {},
   "source": [
    "Download the first file"
   ]
  },
  {
   "cell_type": "code",
   "execution_count": null,
   "id": "58315f02-ae42-4318-abdc-e102e1753290",
   "metadata": {},
   "outputs": [],
   "source": [
    "! curl -o download/TiTe2_0deg.nxs  https://zenodo.org/record/5541490/files/TiTe2_0deg.nxs?download=1"
   ]
  },
  {
   "cell_type": "markdown",
   "id": "ea6ea584-fe25-4af1-ae72-6ae7d7f34830",
   "metadata": {},
   "source": [
    "Extract the NeXus file into an xArray. In the future, mode advanced loading APIs will be developed, transferring all useful metadata."
   ]
  },
  {
   "cell_type": "code",
   "execution_count": null,
   "id": "3b259695-1f73-4bd1-a1bc-4b5abd0432a6",
   "metadata": {},
   "outputs": [],
   "source": [
    "hf = h5.File( 'download/TiTe2_0deg.nxs', 'r' )\n",
    "zero_deg=xr.DataArray(hf['entry/data/Photoemission intensity'][:],\n",
    "        coords={'BE': hf['entry/data/calculated_Energy'][:], 'kx':hf['entry/data/calculated_kx'][:], 'ky':hf['entry/data/calculated_ky'][:]},\n",
    "        )"
   ]
  },
  {
   "cell_type": "markdown",
   "id": "1d7de2d8-025f-4ead-9342-3c40f530b7fe",
   "metadata": {},
   "source": [
    "Visualize first file"
   ]
  },
  {
   "cell_type": "markdown",
   "id": "5db2a2ea-1e78-42b6-ba72-5576284fe76e",
   "metadata": {},
   "source": [
    "You can use the \"Axes\" tab to transpose the volume to obtain the optimal panel arrangement."
   ]
  },
  {
   "cell_type": "code",
   "execution_count": null,
   "id": "a9436bce-4f5d-4f68-9f8b-c0f5ee1ef3d3",
   "metadata": {},
   "outputs": [],
   "source": [
    "qt_tool(zero_deg)"
   ]
  },
  {
   "cell_type": "markdown",
   "id": "1985f54a-3ddc-426b-98fe-85c368756ec0",
   "metadata": {},
   "source": [
    "Download & extract the second file"
   ]
  },
  {
   "cell_type": "code",
   "execution_count": null,
   "id": "f608fa34-5b23-4a7d-81ba-a7739f535ddd",
   "metadata": {},
   "outputs": [],
   "source": [
    "! curl -o download/TiTe2_60deg.nxs  https://zenodo.org/record/5541490/files/TiTe2_60deg.nxs?download=1"
   ]
  },
  {
   "cell_type": "code",
   "execution_count": null,
   "id": "26bdef12-ea1b-4453-be84-287ab1de1337",
   "metadata": {},
   "outputs": [],
   "source": [
    "hf2 = h5.File( 'download/TiTe2_60deg.nxs', 'r' )\n",
    "sixty_deg=xr.DataArray(hf2['entry/data/Photoemission intensity'][:],\n",
    "        coords={'BE': hf2['entry/data/calculated_Energy'][:], 'kx':hf2['entry/data/calculated_kx'][:], 'ky':hf2['entry/data/calculated_ky'][:]},\n",
    "        )"
   ]
  },
  {
   "cell_type": "markdown",
   "id": "88310069-fb9a-48c4-a490-072118176937",
   "metadata": {},
   "source": [
    "Visualize second file"
   ]
  },
  {
   "cell_type": "code",
   "execution_count": null,
   "id": "a01b408e-1caf-400c-a72f-0b21d7085916",
   "metadata": {},
   "outputs": [],
   "source": [
    "qt_tool(sixty_deg)"
   ]
  },
  {
   "cell_type": "markdown",
   "id": "a94113ae-ae8f-4a9a-a2be-ee570a2aca60",
   "metadata": {},
   "source": [
    "Noticed the asymmetry in the electron pockts at the Fermi surface? Let's make it shine!"
   ]
  },
  {
   "cell_type": "code",
   "execution_count": null,
   "id": "9aa56079-be66-4575-91c9-7bc77213893f",
   "metadata": {},
   "outputs": [],
   "source": [
    "difference=zero_deg-sixty_deg"
   ]
  },
  {
   "cell_type": "markdown",
   "id": "47c9522c-4860-4850-9cec-17a4f175c326",
   "metadata": {},
   "source": [
    "Unfortunately only linear colorscales available for the moment"
   ]
  },
  {
   "cell_type": "code",
   "execution_count": null,
   "id": "b6c6c637-7e30-4428-a8b6-c43940ed7382",
   "metadata": {},
   "outputs": [],
   "source": [
    "qt_tool(difference)"
   ]
  },
  {
   "cell_type": "markdown",
   "id": "4adac691-aacd-40bb-a558-4b46f9819008",
   "metadata": {},
   "source": [
    "This is the main observation of https://arxiv.org/pdf/2107.07158.pdf"
   ]
  },
  {
   "cell_type": "markdown",
   "id": "c2e62727-32c9-432e-9d25-9d35b4347811",
   "metadata": {},
   "source": [
    "We can also test 4D data."
   ]
  },
  {
   "cell_type": "code",
   "execution_count": null,
   "id": "4bf60894-22d3-4034-a808-311f285278bc",
   "metadata": {},
   "outputs": [],
   "source": [
    "! curl -o download/MoTe2_dyn.nxs  https://zenodo.org/record/4632481/files/201905_MoTe2.nxs?download=1"
   ]
  },
  {
   "cell_type": "code",
   "execution_count": null,
   "id": "dda4bc9a-9729-4bd3-9456-a174427e7a3c",
   "metadata": {},
   "outputs": [],
   "source": [
    "hf3 = h5.File( 'download/MoTe2_dyn.nxs', 'r' )\n",
    "dyn=xr.DataArray(hf3['entry/data/Photoemission intensity'][:],\n",
    "        coords={'tpp': np.squeeze(hf3['entry/data/calculated_Tpp'][:]),'BE': np.squeeze(hf3['entry/data/calculated_Energy'][:]), 'kx': np.squeeze(hf3['entry/data/calculated_kx'][:]), 'ky': np.squeeze(hf3['entry/data/calculated_ky'][:])},\n",
    "        )"
   ]
  },
  {
   "cell_type": "code",
   "execution_count": null,
   "id": "cb0b2144-7ae8-401e-a351-6416098c408a",
   "metadata": {},
   "outputs": [],
   "source": [
    "qt_tool(dyn)"
   ]
  },
  {
   "cell_type": "markdown",
   "id": "01044d8a-00ee-4123-a7a4-5b984b30789d",
   "metadata": {},
   "source": [
    "At the Fermi energy, you will see an electron pocket appearing close to time zero and disappearing immediately after wards. This is the signature of a dynamical Lifshitz transition, a change in the topology of the Fermi surface. To learn more, read https://www.science.org/doi/10.1126/sciadv.abd9275'"
   ]
  }
 ],
 "metadata": {
  "kernelspec": {
   "display_name": "Python 3 (ipykernel)",
   "language": "python",
   "name": "python3"
  },
  "language_info": {
   "codemirror_mode": {
    "name": "ipython",
    "version": 3
   },
   "file_extension": ".py",
   "mimetype": "text/x-python",
   "name": "python",
   "nbconvert_exporter": "python",
   "pygments_lexer": "ipython3",
   "version": "3.8.12"
  }
 },
 "nbformat": 4,
 "nbformat_minor": 5
}
