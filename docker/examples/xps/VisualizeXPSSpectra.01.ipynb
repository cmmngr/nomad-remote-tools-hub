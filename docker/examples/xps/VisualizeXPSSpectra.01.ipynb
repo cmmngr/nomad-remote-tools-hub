{
 "cells": [
  {
   "cell_type": "markdown",
   "metadata": {},
   "source": [
    "# Exemplar visualization of XPS spectra"
   ]
  },
  {
   "cell_type": "code",
   "execution_count": null,
   "metadata": {},
   "outputs": [],
   "source": [
    "import numpy as np\n",
    "import matplotlib.pyplot as plt\n",
    "import os, sys\n",
    "import json\n",
    "import shutil"
   ]
  },
  {
   "cell_type": "markdown",
   "metadata": {},
   "source": [
    "### Get a dataset"
   ]
  },
  {
   "cell_type": "code",
   "execution_count": null,
   "metadata": {},
   "outputs": [],
   "source": [
    "#comment the next line out in case you have the XPS Data Example.xy file and associated specs parser files already visible in your nomadOASIS\n",
    "#leave the next line untouched if you are testing this notebook locally and have the XPSDataExample.zip and the parsers there\n",
    "shutil.unpack_archive('XPSDataExample.zip')\n",
    "! ls"
   ]
  },
  {
   "cell_type": "markdown",
   "metadata": {},
   "source": [
    "### Link to Mark Greiner's parser for reading metadata and numerical data from SPECS Prodigy *.xy files."
   ]
  },
  {
   "cell_type": "code",
   "execution_count": null,
   "metadata": {},
   "outputs": [],
   "source": [
    "import os, sys\n",
    "sys.path.append('nomad_xps_parser_specsxy')"
   ]
  },
  {
   "cell_type": "code",
   "execution_count": null,
   "metadata": {},
   "outputs": [],
   "source": [
    "from prodigy_parser_xy import ProdigyParserXY"
   ]
  },
  {
   "cell_type": "markdown",
   "metadata": {},
   "source": [
    "### Use the parser to extract (meta)data."
   ]
  },
  {
   "cell_type": "code",
   "execution_count": null,
   "metadata": {},
   "outputs": [],
   "source": [
    "MYDATASET = 'XPS data example'"
   ]
  },
  {
   "cell_type": "code",
   "execution_count": null,
   "metadata": {},
   "outputs": [],
   "source": [
    "parser = ProdigyParserXY( author='Mark Greiner' )\n",
    "#parser.convertToJson(MYDATASET+'.xy')\n",
    "parser.parseFile(MYDATASET+'.xy')\n",
    "#the next two methods are some cleaning steps that we typically do in XPS\n",
    "parser.removeAlign()\n",
    "parser.extractAllTags()\n",
    "#the dataset is a list of dictionaries, where each spectrum is one item in the list\n",
    "data_set = parser.dataset"
   ]
  },
  {
   "cell_type": "markdown",
   "metadata": {},
   "source": [
    "### Display selected spectra."
   ]
  },
  {
   "cell_type": "markdown",
   "metadata": {},
   "source": [
    "Starting with Mark Greiner's example code that comes with the parser how to visualize data."
   ]
  },
  {
   "cell_type": "code",
   "execution_count": null,
   "metadata": {},
   "outputs": [],
   "source": [
    "#fig, xy = plt.figure(figsize=[20, 10])\n",
    "spectrum_types = list(set([d['metadata']['spectrum_region'] for d in data_set]))\n",
    "print('Number of spectra_types:')\n",
    "print(np.shape(spectrum_types))\n",
    "#dataset contains 5 spectra, the zeroth one is an overview, the rest specific ones\n",
    "for selection in spectrum_types:\n",
    "    #selection = spectrum_types[4]\n",
    "    channel_nr = 1\n",
    "    for data in data_set:\n",
    "        if data['metadata']['spectrum_region'] == selection:\n",
    "            axis_id = data['metadata']['axis_id']\n",
    "            plt.plot(data['data'][axis_id], data['data'][channel_nr])\n",
    "            plt.xlabel(data['metadata']['data_labels'][axis_id]['label'] \n",
    "                       + ' [' + data['metadata']['data_labels'][axis_id]['unit'] \n",
    "                       + ']', fontsize=14)\n",
    "            plt.ylabel(data['metadata']['data_labels'][channel_nr]['label'] + \n",
    "                       ' [' + data['metadata']['data_labels'][channel_nr]['unit'] \n",
    "                       + ']', fontsize=14)\n",
    "#plt.yscale('log')\n",
    "plt.legend(range(5))\n",
    "plt.show()"
   ]
  },
  {
   "cell_type": "markdown",
   "metadata": {},
   "source": [
    "### Next steps"
   ]
  },
  {
   "cell_type": "markdown",
   "metadata": {},
   "source": [
    "* Reorganize/rewrite plotting functions\n",
    "* Interface with nomad xpsparser\n",
    "* Parse from XPS NeXus application definition\n",
    "* Have a parser from xy/sle/vms to this NeXus application definition\n",
    "* Thus, split the expertise which is needed for parser development<br>\n",
    "between domain-format specialists and nomad development specialists\n",
    "* Let nomad maintain a NeXus for XPS app def parser\n",
    "\n",
    "* Use widgets (e.g. bokeh or ipywidgets) to make figure interactive\n",
    "* Use widgets to make spectra selectable\n",
    "* Make spectrum ranges clickable/selectable to define\n",
    "* Interface with auto-indexing tool"
   ]
  },
  {
   "cell_type": "code",
   "execution_count": null,
   "metadata": {},
   "outputs": [],
   "source": []
  }
 ],
 "metadata": {
  "kernelspec": {
   "display_name": "Python 3",
   "language": "python",
   "name": "python3"
  },
  "language_info": {
   "codemirror_mode": {
    "name": "ipython",
    "version": 3
   },
   "file_extension": ".py",
   "mimetype": "text/x-python",
   "name": "python",
   "nbconvert_exporter": "python",
   "pygments_lexer": "ipython3",
   "version": "3.8.5"
  }
 },
 "nbformat": 4,
 "nbformat_minor": 4
}
