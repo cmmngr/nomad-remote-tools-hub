{
 "cells": [
  {
   "cell_type": "markdown",
   "metadata": {},
   "source": [
    "## nomad-remote-tool electron microscopy example data"
   ]
  },
  {
   "cell_type": "markdown",
   "metadata": {},
   "source": [
    "Make accessible a dataset from electron microscopy for nomad remote tools, here from focus series reconstruction.<br>Background to the dataset: https://doi.org/10.1016/j.ultramic.2021.113264"
   ]
  },
  {
   "cell_type": "markdown",
   "metadata": {},
   "source": [
    "### Initialize"
   ]
  },
  {
   "cell_type": "markdown",
   "metadata": {},
   "source": [
    "Import Python modules."
   ]
  },
  {
   "cell_type": "code",
   "execution_count": null,
   "metadata": {},
   "outputs": [],
   "source": [
    "import numpy as np\n",
    "import matplotlib.pyplot as plt\n",
    "#plt.rcParams['figure.figsize'] = [12, 8]\n",
    "#plt.rcParams['figure.dpi'] = 300\n",
    "import h5py as h5\n",
    "#needs shutils from decompressing zip archives, is a default module/package in Python since >=v3.6\n",
    "import shutil"
   ]
  },
  {
   "cell_type": "markdown",
   "metadata": {},
   "source": [
    "#Use David Völgyes tool to download all files from a Zenodo repository with many files."
   ]
  },
  {
   "cell_type": "code",
   "execution_count": null,
   "metadata": {},
   "outputs": [],
   "source": [
    "#! pip3 install zenodo-get"
   ]
  },
  {
   "cell_type": "markdown",
   "metadata": {},
   "source": [
    "Identify in which folder we are locally"
   ]
  },
  {
   "cell_type": "code",
   "execution_count": null,
   "metadata": {},
   "outputs": [],
   "source": [
    "! echo $PWD"
   ]
  },
  {
   "cell_type": "markdown",
   "metadata": {},
   "source": [
    "### Download a dataset for testing from Zenodo"
   ]
  },
  {
   "cell_type": "markdown",
   "metadata": {},
   "source": [
    "Three options possible: curl, wget for single files, or zenodo_get for all files in the repo."
   ]
  },
  {
   "cell_type": "markdown",
   "metadata": {},
   "source": [
    "Download a single file using curl."
   ]
  },
  {
   "cell_type": "code",
   "execution_count": null,
   "metadata": {},
   "outputs": [],
   "source": [
    "#http://dx.doi.org/10.5281/zenodo.5591878\n",
    "! curl --output Dataset.Objective.Aperture.Energy.Slit.cdf.nx5.zip https://zenodo.org/record/5591879/files/Dataset.Objective.Aperture.Energy.Slit.cdf.nx5.zip"
   ]
  },
  {
   "cell_type": "markdown",
   "metadata": {},
   "source": [
    "Download a single file using wget."
   ]
  },
  {
   "cell_type": "code",
   "execution_count": null,
   "metadata": {},
   "outputs": [],
   "source": [
    "#! wget -O tester.zip https://zenodo.org/record/5591879/files/Dataset.Objective.Aperture.Energy.Slit.cdf.nx5.zip"
   ]
  },
  {
   "cell_type": "markdown",
   "metadata": {},
   "source": [
    "Download all files from the Zenodo repository using zenodo_get tool."
   ]
  },
  {
   "cell_type": "code",
   "execution_count": null,
   "metadata": {},
   "outputs": [],
   "source": [
    "#! zenodo_get 5591879"
   ]
  },
  {
   "cell_type": "markdown",
   "metadata": {},
   "source": [
    "### Decompress the dataset"
   ]
  },
  {
   "cell_type": "code",
   "execution_count": null,
   "metadata": {},
   "outputs": [],
   "source": [
    "! ls -lah\n",
    "#the next line can be commented out in case you consume this ipynb inside north provided you have the *.nx5 file in your local OASIS\n",
    "#otherwise, especially when you consume this ipynb locally after having cloned, leave the next line in",
    "shutil.unpack_archive('Dataset.Objective.Aperture.Energy.Slit.cdf.nx5.zip')\n",
    "#unpacks in current path by if additional path argument is not given './')\n",
    "! ls"
   ]
  },
  {
   "cell_type": "markdown",
   "metadata": {},
   "source": [
    "Zenodo download processed and decompressed, check if required file is in local working directory."
   ]
  },
  {
   "cell_type": "code",
   "execution_count": null,
   "metadata": {},
   "outputs": [],
   "source": [
    "MYDATASET = 'Dataset.Objective.Aperture.Energy.Slit.cdf.nx5'\n",
    "#later load a dataset from local nomadOASIS data repository (shadow) folder.\n",
    "! ls $MYDATASET"
   ]
  },
  {
   "cell_type": "markdown",
   "metadata": {},
   "source": [
    "### Example 1, read data from file and visualize"
   ]
  },
  {
   "cell_type": "code",
   "execution_count": null,
   "metadata": {},
   "outputs": [],
   "source": [
    "#interact with h5py to load numerical data\n",
    "hf = h5.File( MYDATASET, 'r' )\n",
    "layerid = 22 #\\in [0, 22]\n",
    "im_array = np.asarray(hf['FocalSeries:NXentry/data:NXdata/ImageStack'][layerid,:,:])\n",
    "plt.imshow(im_array)\n",
    "plt.xlabel(r'x (px)')\n",
    "plt.ylabel(r'y (px)')\n",
    "plt.show()"
   ]
  },
  {
   "cell_type": "code",
   "execution_count": null,
   "metadata": {},
   "outputs": [],
   "source": []
  }
 ],
 "metadata": {
  "kernelspec": {
   "display_name": "Python 3",
   "language": "python",
   "name": "python3"
  },
  "language_info": {
   "codemirror_mode": {
    "name": "ipython",
    "version": 3
   },
   "file_extension": ".py",
   "mimetype": "text/x-python",
   "name": "python",
   "nbconvert_exporter": "python",
   "pygments_lexer": "ipython3",
   "version": "3.8.5"
  }
 },
 "nbformat": 4,
 "nbformat_minor": 4
}
