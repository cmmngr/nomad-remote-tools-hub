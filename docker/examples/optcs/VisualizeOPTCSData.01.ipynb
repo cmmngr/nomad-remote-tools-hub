{
 "cells": [
  {
   "cell_type": "markdown",
   "metadata": {},
   "source": [
    "# Exemplar visualization of results from optical spectroscopy (here ellipsometry)"
   ]
  },
  {
   "cell_type": "code",
   "execution_count": 1,
   "metadata": {},
   "outputs": [],
   "source": [
    "import numpy as np\n",
    "import matplotlib.pyplot as plt\n",
    "import os, sys\n",
    "import json\n",
    "import shutil"
   ]
  },
  {
   "cell_type": "markdown",
   "metadata": {},
   "source": [
    "### Get a dataset"
   ]
  },
  {
   "cell_type": "markdown",
   "metadata": {},
   "source": [
    "Spectrum of Si wafer with 2nm SiO2."
   ]
  },
  {
   "cell_type": "code",
   "execution_count": 2,
   "metadata": {},
   "outputs": [
    {
     "name": "stdout",
     "output_type": "stream",
     "text": [
      "190801_Si_SiO2_2nm_test.dat\t\t190801_Si_SiO2_2nm_test.zip\n",
      "190801_Si_SiO2_2nm_test_mat_fehler.txt\tREADME.txt\n",
      "190801_Si_SiO2_2nm_test_mat.txt\t\tVisualizeOPTCSData.01.ipynb\n",
      "190801_Si_SiO2_2nm_test.SE\n"
     ]
    }
   ],
   "source": [
    "shutil.unpack_archive('190801_Si_SiO2_2nm_test.zip')\n",
    "! ls"
   ]
  },
  {
   "cell_type": "markdown",
   "metadata": {},
   "source": [
    "### Parsing from file formats"
   ]
  },
  {
   "cell_type": "markdown",
   "metadata": {},
   "source": [
    "Chris Sturm explained that the dataset was collected with a JaWoollam instrument via CompleteEASE software https://www.jawoollam.com/ellipsometry-software/completeease\n",
    "To the best of his knowledge there is not yet an open-source parser for translating the proprietary *.SE file format that CompleteEASE creates into an open format.\n",
    "So Chris used another proprietary software, WVase https://www.jawoollam.com/ellipsometry-software/wvase, to transcode the *.SE into *.dat, which is a set of ASCII tables with metadata.\n",
    "From this *.dat he uses a custom parser to extract results into a format with which it is easier for him to work with to discuss the experiment. This format is an ASCII table where the individual spectra are stack as blocks of table glued together. This format he refers to as *_mat.txt and *_mat_fehler.txt specifically where the second format gives the uncertainties. This is what we work with in this example."
   ]
  },
  {
   "cell_type": "code",
   "execution_count": 5,
   "metadata": {},
   "outputs": [],
   "source": [
    "MYDATASET = '190801_Si_SiO2_2nm_test'"
   ]
  },
  {
   "cell_type": "code",
   "execution_count": 6,
   "metadata": {},
   "outputs": [],
   "source": [
    "import pandas as pd\n",
    "data = pd.read_csv(MYDATASET+'_mat.txt', delimiter='\\s+')"
   ]
  },
  {
   "cell_type": "markdown",
   "metadata": {},
   "source": [
    "### Data wrangling and cleaning"
   ]
  },
  {
   "cell_type": "markdown",
   "metadata": {},
   "source": [
    "Two relevant observations wrt to formatting:\n",
    "* The column names in the header section get parsed incorrectly because the strings themselves contain space delimiters.\n",
    "* Some columns do not contain relevant measured data but dummy data instead these are according to Chris:\n",
    "* Drehwinkel/ x Position\n",
    "* y-Position\n",
    "* lf. Proben Nummber\n",
    "* SE Type\n",
    "* and all mm<i,j> columns"
   ]
  },
  {
   "cell_type": "markdown",
   "metadata": {},
   "source": [
    "The original header line was:\n",
    "Energie\tEinfallswinkel\tDrehwinkel/ x Position y-Position\tlf. Proben Nummer\tSE-Type\tPsi\tDelta\tmm11\tmm12\tmm13\tmm14\tmm21\tmm22\tmm23\tmm24\tmm31\tmm32\tmm33\tmm34\tmm41\tmm42\tmm43\tmm44\n",
    "All we are interested for now is the "
   ]
  },
  {
   "cell_type": "code",
   "execution_count": 7,
   "metadata": {},
   "outputs": [],
   "source": [
    "#data['mm34'] = data['mm34'].replace(0.0, np.nan)\n",
    "data = data.drop('Drehwinkel/', 1)\n",
    "data = data.drop('x', 1)\n",
    "data = data.drop('Position', 1)\n",
    "data = data.drop('y-Position', 1)\n",
    "for i in [1,2,3,4]:\n",
    "    for j in [1,2,3,4]:\n",
    "        columnname = 'mm'+str(i)+str(j)\n",
    "        data = data.drop(columnname, 1)\n",
    "data = data.drop('Nummer', 1)\n",
    "data = data.drop('SE-Type', 1)\n",
    "data = data.drop('Psi', 1)\n",
    "data = data.drop('Delta', 1)\n",
    "#finally, reflecting the above-mentioned comments we need to relabel column lf. with Psi and Proben with Delta\n",
    "data = data.rename(columns={\"lf.\": \"Psi (degree)\", \"Proben\": \"Delta (degree)\"})"
   ]
  },
  {
   "cell_type": "code",
   "execution_count": 8,
   "metadata": {},
   "outputs": [
    {
     "data": {
      "text/html": [
       "<div>\n",
       "<style scoped>\n",
       "    .dataframe tbody tr th:only-of-type {\n",
       "        vertical-align: middle;\n",
       "    }\n",
       "\n",
       "    .dataframe tbody tr th {\n",
       "        vertical-align: top;\n",
       "    }\n",
       "\n",
       "    .dataframe thead th {\n",
       "        text-align: right;\n",
       "    }\n",
       "</style>\n",
       "<table border=\"1\" class=\"dataframe\">\n",
       "  <thead>\n",
       "    <tr style=\"text-align: right;\">\n",
       "      <th></th>\n",
       "      <th>Energie</th>\n",
       "      <th>Einfallswinkel</th>\n",
       "      <th>Psi (degree)</th>\n",
       "      <th>Delta (degree)</th>\n",
       "    </tr>\n",
       "  </thead>\n",
       "  <tbody>\n",
       "    <tr>\n",
       "      <th>0</th>\n",
       "      <td>1930.0</td>\n",
       "      <td>50.0</td>\n",
       "      <td>40.010899</td>\n",
       "      <td>140.596375</td>\n",
       "    </tr>\n",
       "    <tr>\n",
       "      <th>1</th>\n",
       "      <td>1940.0</td>\n",
       "      <td>50.0</td>\n",
       "      <td>40.070530</td>\n",
       "      <td>140.679840</td>\n",
       "    </tr>\n",
       "    <tr>\n",
       "      <th>2</th>\n",
       "      <td>1950.0</td>\n",
       "      <td>50.0</td>\n",
       "      <td>40.052708</td>\n",
       "      <td>140.847351</td>\n",
       "    </tr>\n",
       "    <tr>\n",
       "      <th>3</th>\n",
       "      <td>1960.0</td>\n",
       "      <td>50.0</td>\n",
       "      <td>40.038048</td>\n",
       "      <td>141.239487</td>\n",
       "    </tr>\n",
       "    <tr>\n",
       "      <th>4</th>\n",
       "      <td>1970.0</td>\n",
       "      <td>50.0</td>\n",
       "      <td>40.086514</td>\n",
       "      <td>141.575409</td>\n",
       "    </tr>\n",
       "    <tr>\n",
       "      <th>...</th>\n",
       "      <td>...</td>\n",
       "      <td>...</td>\n",
       "      <td>...</td>\n",
       "      <td>...</td>\n",
       "    </tr>\n",
       "    <tr>\n",
       "      <th>4347</th>\n",
       "      <td>16900.0</td>\n",
       "      <td>65.0</td>\n",
       "      <td>14.899776</td>\n",
       "      <td>178.085114</td>\n",
       "    </tr>\n",
       "    <tr>\n",
       "      <th>4348</th>\n",
       "      <td>16925.0</td>\n",
       "      <td>65.0</td>\n",
       "      <td>14.861681</td>\n",
       "      <td>178.171539</td>\n",
       "    </tr>\n",
       "    <tr>\n",
       "      <th>4349</th>\n",
       "      <td>16950.0</td>\n",
       "      <td>65.0</td>\n",
       "      <td>14.917637</td>\n",
       "      <td>178.184357</td>\n",
       "    </tr>\n",
       "    <tr>\n",
       "      <th>4350</th>\n",
       "      <td>16975.0</td>\n",
       "      <td>65.0</td>\n",
       "      <td>14.960825</td>\n",
       "      <td>178.107681</td>\n",
       "    </tr>\n",
       "    <tr>\n",
       "      <th>4351</th>\n",
       "      <td>17000.0</td>\n",
       "      <td>65.0</td>\n",
       "      <td>14.887267</td>\n",
       "      <td>177.860275</td>\n",
       "    </tr>\n",
       "  </tbody>\n",
       "</table>\n",
       "<p>4352 rows × 4 columns</p>\n",
       "</div>"
      ],
      "text/plain": [
       "      Energie  Einfallswinkel  Psi (degree)  Delta (degree)\n",
       "0      1930.0            50.0     40.010899      140.596375\n",
       "1      1940.0            50.0     40.070530      140.679840\n",
       "2      1950.0            50.0     40.052708      140.847351\n",
       "3      1960.0            50.0     40.038048      141.239487\n",
       "4      1970.0            50.0     40.086514      141.575409\n",
       "...       ...             ...           ...             ...\n",
       "4347  16900.0            65.0     14.899776      178.085114\n",
       "4348  16925.0            65.0     14.861681      178.171539\n",
       "4349  16950.0            65.0     14.917637      178.184357\n",
       "4350  16975.0            65.0     14.960825      178.107681\n",
       "4351  17000.0            65.0     14.887267      177.860275\n",
       "\n",
       "[4352 rows x 4 columns]"
      ]
     },
     "execution_count": 8,
     "metadata": {},
     "output_type": "execute_result"
    }
   ],
   "source": [
    "data"
   ]
  },
  {
   "cell_type": "markdown",
   "metadata": {},
   "source": [
    "It remains to split the tables again into the different spectra for different \"Einfallswinkel\", i.e. angle of incidence."
   ]
  },
  {
   "cell_type": "code",
   "execution_count": 10,
   "metadata": {},
   "outputs": [
    {
     "name": "stdout",
     "output_type": "stream",
     "text": [
      "[50. 55. 60. 65.]\n"
     ]
    }
   ],
   "source": [
    "incidence_angles = np.unique(data['Einfallswinkel'].to_numpy())\n",
    "print(incidence_angles)"
   ]
  },
  {
   "cell_type": "markdown",
   "metadata": {},
   "source": [
    "### Now, visualizing the \"spectra\"."
   ]
  },
  {
   "cell_type": "code",
   "execution_count": 11,
   "metadata": {},
   "outputs": [
    {
     "data": {
      "text/plain": [
       "Text(0, 0.5, 'Psi (degree)')"
      ]
     },
     "execution_count": 11,
     "metadata": {},
     "output_type": "execute_result"
    },
    {
     "data": {
      "image/png": "[encoded data removed]",
      "text/plain": [
       "<Figure size 1440x720 with 1 Axes>"
      ]
     },
     "metadata": {
      "needs_background": "light"
     },
     "output_type": "display_data"
    }
   ],
   "source": [
    "fig, ax1 = plt.subplots( figsize=[20, 10] )\n",
    "for i in incidence_angles:\n",
    "    #i = 50.\n",
    "    energy = data[np.abs(data['Einfallswinkel'] - i) < (np.finfo(np.float32).eps*10)]['Energie']\n",
    "    psi = data[np.abs(data['Einfallswinkel'] - i) < (np.finfo(np.float32).eps*10)]['Psi (degree)']\n",
    "    #delta = data[np.abs(data['Einfallswinkel'] - i) < (np.finfo(np.float32).eps*10)]['Delta (degree)']\n",
    "    plt.scatter( energy, psi )\n",
    "    #plt.scatter( energy, delta )    \n",
    "plt.legend(incidence_angles)\n",
    "plt.xlabel(r'Energy (Angstrom)') #Chris explained they call the respective equivalent wavelength an energy in their domain\n",
    "plt.ylabel(r'Psi (degree)')\n",
    "#plt.ylabel(r'Delta (degree)')"
   ]
  },
  {
   "cell_type": "markdown",
   "metadata": {},
   "source": [
    "### Next steps"
   ]
  },
  {
   "cell_type": "markdown",
   "metadata": {},
   "source": [
    "* Define and use a NeXus application definition for optical spectroscopy\n",
    "* Develop parser for proprietary formats\n",
    "* Reorganize/rewrite plotting functions\n",
    "* Use widgets (e.g. bokeh or ipywidgets) to make figure interactive\n",
    "* Use widgets to make spectra selectable\n",
    "* Make spectrum ranges clickable/selectable to define\n",
    "* Interface with auto-indexing tool"
   ]
  },
  {
   "cell_type": "code",
   "execution_count": null,
   "metadata": {},
   "outputs": [],
   "source": []
  }
 ],
 "metadata": {
  "kernelspec": {
   "display_name": "Python 3",
   "language": "python",
   "name": "python3"
  },
  "language_info": {
   "codemirror_mode": {
    "name": "ipython",
    "version": 3
   },
   "file_extension": ".py",
   "mimetype": "text/x-python",
   "name": "python",
   "nbconvert_exporter": "python",
   "pygments_lexer": "ipython3",
   "version": "3.8.5"
  }
 },
 "nbformat": 4,
 "nbformat_minor": 4
}
